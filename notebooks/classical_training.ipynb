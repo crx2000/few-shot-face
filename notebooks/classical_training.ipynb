{
 "cells": [
  {
   "cell_type": "markdown",
   "metadata": {
    "id": "1atQIthOqnop",
    "pycharm": {
     "name": "#%% md\n"
    }
   },
   "source": [
    "# Train a model with Classical Training\n",
    "\n",
    "Although episodic training has attracted a lot of interest in the early years of Few-Shot Learning research, more recent works suggest that competitive results can be achieved with a simple cross entropy loss across all training classes. Therefore, it is becoming more and more common to use this classical process to train the backbone, that will be common to all methods compared at test time.\n",
    "\n",
    "This is in fact more representative of real use cases: episodic training assumes that, at training time, you have access to the shape of the few-shot tasks that will be encountered at test time (indeed you choose a specific number of ways for episodic training). You also \"force\" your inference method into the training of the network. Switching the few-shot learning logic to inference (i.e. no episodic training) allows methods to be agnostic of the backbone.\n",
    "\n",
    "Nonetheless, if you need to perform episodic training, we also provide [an example notebook](episodic_training.ipynb) for that."
   ]
  },
  {
   "cell_type": "markdown",
   "metadata": {
    "id": "axL7cV71qnoz",
    "pycharm": {
     "name": "#%% md\n"
    }
   },
   "source": [
    "## Getting started\n",
    "First we're going to do some imports (this is not the interesting part)."
   ]
  },
  {
   "cell_type": "code",
   "execution_count": null,
   "metadata": {
    "id": "MwkBm5_5tKw7",
    "pycharm": {
     "name": "#%%\n"
    }
   },
   "outputs": [],
   "source": [
    "try:\n",
    "    import google.colab\n",
    "    colab = True\n",
    "except:\n",
    "    colab = False"
   ]
  },
  {
   "cell_type": "code",
   "execution_count": 2,
   "metadata": {
    "colab": {
     "base_uri": "https://localhost:8080/"
    },
    "id": "-fnXeQdysyXW",
    "outputId": "9a5019b3-24c7-4cdb-9030-517c9a3ea524",
    "pycharm": {
     "name": "#%%\n"
    }
   },
   "outputs": [
    {
     "name": "stdout",
     "output_type": "stream",
     "text": [
      "/home/crx/桌面/2023FR/easy-few-shot-learning-master\n"
     ]
    }
   ],
   "source": [
    "if colab is True:\n",
    "    # Running in Google Colab\n",
    "    # Clone the repo\n",
    "    !git clone https://github.com/sicara/easy-few-shot-learning\n",
    "    %cd easy-few-shot-learning\n",
    "    !pip install .\n",
    "else:\n",
    "    # Run locally\n",
    "    # Ensure working directory is the project's root\n",
    "    # Make sure easyfsl is installed!\n",
    "    %cd .."
   ]
  },
  {
   "cell_type": "code",
   "execution_count": 3,
   "metadata": {
    "id": "gZ8bXCqpqno0",
    "pycharm": {
     "name": "#%%\n"
    }
   },
   "outputs": [],
   "source": [
    "from pathlib import Path\n",
    "import random\n",
    "from statistics import mean\n",
    "\n",
    "import numpy as np\n",
    "import torch\n",
    "from torch import nn\n",
    "from tqdm import tqdm"
   ]
  },
  {
   "cell_type": "markdown",
   "metadata": {
    "id": "50xGcwMrqno3",
    "pycharm": {
     "name": "#%% md\n"
    }
   },
   "source": [
    "Then we're gonna do the most important thing in Machine Learning research: ensuring reproducibility by setting the random seed. We're going to set the seed for all random packages that we could possibly use, plus some other stuff to make CUDA deterministic (see [here](https://pytorch.org/docs/stable/notes/randomness.html)).\n",
    "\n",
    "I strongly encourage that you do this in **all your scripts**."
   ]
  },
  {
   "cell_type": "code",
   "execution_count": 4,
   "metadata": {
    "id": "vpqXEWt8qno4",
    "pycharm": {
     "name": "#%%\n"
    }
   },
   "outputs": [],
   "source": [
    "random_seed = 0\n",
    "np.random.seed(random_seed)\n",
    "torch.manual_seed(random_seed)\n",
    "random.seed(random_seed)\n",
    "torch.backends.cudnn.deterministic = True\n",
    "torch.backends.cudnn.benchmark = False"
   ]
  },
  {
   "cell_type": "markdown",
   "metadata": {
    "id": "xW257QB4qno5",
    "pycharm": {
     "name": "#%% md\n"
    }
   },
   "source": [
    "Then we're gonna create our data loader for the training set. You can see that I chose tu use CUB in this notebook, because it’s a small dataset, so we can have good results quite quickly. I set a batch size of 128 but feel free to adapt it to your constraints.\n",
    "\n",
    "Note that we're not using the `TaskSampler` for the train data loader, because we won't be sampling training data in the shape of tasks as we would have in episodic training. We do it **normally**."
   ]
  },
  {
   "cell_type": "code",
   "execution_count": 5,
   "metadata": {
    "id": "L0qMlS_at91K",
    "pycharm": {
     "name": "#%%\n"
    }
   },
   "outputs": [
    {
     "name": "stdout",
     "output_type": "stream",
     "text": [
      "mkdir -p data/CUB\r\n",
      "wget --load-cookies /tmp/cookies.txt \"https://docs.google.com/uc?export=download&confirm=.*/\\1\\n/p')&id=1GDr1OkoXdhaXWGA8S3MAq3a522Tak-nx\" -O data/CUB/images.tgz\r\n",
      "Cannot open cookies file ‘/tmp/cookies.txt’: No such file or directory\r\n",
      "--2023-07-23 00:50:05--  https://docs.google.com/uc?export=download&confirm=.*/%5C1%5Cn/p')&id=1GDr1OkoXdhaXWGA8S3MAq3a522Tak-nx\r\n",
      "Resolving docs.google.com (docs.google.com)... 69.171.227.37\r\n",
      "Connecting to docs.google.com (docs.google.com)|69.171.227.37|:443... failed: Connection timed out.\r\n",
      "Retrying.\r\n",
      "\r\n",
      "--2023-07-23 00:52:16--  (try: 2)  https://docs.google.com/uc?export=download&confirm=.*/%5C1%5Cn/p')&id=1GDr1OkoXdhaXWGA8S3MAq3a522Tak-nx\r\n",
      "Connecting to docs.google.com (docs.google.com)|69.171.227.37|:443... failed: Connection timed out.\r\n",
      "Retrying.\r\n",
      "\r\n",
      "--2023-07-23 00:54:28--  (try: 3)  https://docs.google.com/uc?export=download&confirm=.*/%5C1%5Cn/p')&id=1GDr1OkoXdhaXWGA8S3MAq3a522Tak-nx\r\n",
      "Connecting to docs.google.com (docs.google.com)|69.171.227.37|:443... failed: Connection timed out.\r\n",
      "Retrying.\r\n",
      "\r\n",
      "--2023-07-23 00:56:42--  (try: 4)  https://docs.google.com/uc?export=download&confirm=.*/%5C1%5Cn/p')&id=1GDr1OkoXdhaXWGA8S3MAq3a522Tak-nx\r\n",
      "Connecting to docs.google.com (docs.google.com)|69.171.227.37|:443... failed: Connection timed out.\r\n",
      "Retrying.\r\n",
      "\r\n",
      "--2023-07-23 00:58:57--  (try: 5)  https://docs.google.com/uc?export=download&confirm=.*/%5C1%5Cn/p')&id=1GDr1OkoXdhaXWGA8S3MAq3a522Tak-nx\r\n",
      "Connecting to docs.google.com (docs.google.com)|69.171.227.37|:443... failed: Connection timed out.\r\n",
      "Retrying.\r\n",
      "\r\n",
      "--2023-07-23 01:01:13--  (try: 6)  https://docs.google.com/uc?export=download&confirm=.*/%5C1%5Cn/p')&id=1GDr1OkoXdhaXWGA8S3MAq3a522Tak-nx\r\n",
      "Connecting to docs.google.com (docs.google.com)|69.171.227.37|:443... failed: Connection timed out.\r\n",
      "Retrying.\r\n",
      "\r\n",
      "--2023-07-23 01:03:29--  (try: 7)  https://docs.google.com/uc?export=download&confirm=.*/%5C1%5Cn/p')&id=1GDr1OkoXdhaXWGA8S3MAq3a522Tak-nx\r\n",
      "Connecting to docs.google.com (docs.google.com)|69.171.227.37|:443... failed: Connection timed out.\r\n",
      "Retrying.\r\n",
      "\r\n",
      "--2023-07-23 01:05:45--  (try: 8)  https://docs.google.com/uc?export=download&confirm=.*/%5C1%5Cn/p')&id=1GDr1OkoXdhaXWGA8S3MAq3a522Tak-nx\r\n",
      "Connecting to docs.google.com (docs.google.com)|69.171.227.37|:443... failed: Connection timed out.\r\n",
      "Retrying.\r\n",
      "\r\n",
      "--2023-07-23 01:08:03--  (try: 9)  https://docs.google.com/uc?export=download&confirm=.*/%5C1%5Cn/p')&id=1GDr1OkoXdhaXWGA8S3MAq3a522Tak-nx\r\n",
      "Connecting to docs.google.com (docs.google.com)|69.171.227.37|:443... failed: Connection timed out.\r\n",
      "Retrying.\r\n",
      "\r\n",
      "--2023-07-23 01:10:22--  (try:10)  https://docs.google.com/uc?export=download&confirm=.*/%5C1%5Cn/p')&id=1GDr1OkoXdhaXWGA8S3MAq3a522Tak-nx\r\n",
      "Connecting to docs.google.com (docs.google.com)|69.171.227.37|:443... failed: Connection timed out.\r\n",
      "Retrying.\r\n",
      "\r\n",
      "--2023-07-23 01:12:42--  (try:11)  https://docs.google.com/uc?export=download&confirm=.*/%5C1%5Cn/p')&id=1GDr1OkoXdhaXWGA8S3MAq3a522Tak-nx\r\n",
      "Connecting to docs.google.com (docs.google.com)|69.171.227.37|:443... failed: Connection timed out.\r\n",
      "Retrying.\r\n",
      "\r\n",
      "--2023-07-23 01:15:01--  (try:12)  https://docs.google.com/uc?export=download&confirm=.*/%5C1%5Cn/p')&id=1GDr1OkoXdhaXWGA8S3MAq3a522Tak-nx\r\n",
      "Connecting to docs.google.com (docs.google.com)|69.171.227.37|:443... failed: Connection timed out.\r\n",
      "Retrying.\r\n",
      "\r\n",
      "--2023-07-23 01:17:20--  (try:13)  https://docs.google.com/uc?export=download&confirm=.*/%5C1%5Cn/p')&id=1GDr1OkoXdhaXWGA8S3MAq3a522Tak-nx\r\n",
      "Connecting to docs.google.com (docs.google.com)|69.171.227.37|:443... failed: Connection timed out.\r\n",
      "Retrying.\r\n",
      "\r\n",
      "--2023-07-23 01:19:40--  (try:14)  https://docs.google.com/uc?export=download&confirm=.*/%5C1%5Cn/p')&id=1GDr1OkoXdhaXWGA8S3MAq3a522Tak-nx\r\n",
      "Connecting to docs.google.com (docs.google.com)|69.171.227.37|:443... failed: Connection timed out.\r\n",
      "Retrying.\r\n",
      "\r\n",
      "--2023-07-23 01:21:59--  (try:15)  https://docs.google.com/uc?export=download&confirm=.*/%5C1%5Cn/p')&id=1GDr1OkoXdhaXWGA8S3MAq3a522Tak-nx\r\n",
      "Connecting to docs.google.com (docs.google.com)|69.171.227.37|:443... failed: Connection timed out.\r\n",
      "Retrying.\r\n",
      "\r\n",
      "--2023-07-23 01:24:18--  (try:16)  https://docs.google.com/uc?export=download&confirm=.*/%5C1%5Cn/p')&id=1GDr1OkoXdhaXWGA8S3MAq3a522Tak-nx\r\n",
      "Connecting to docs.google.com (docs.google.com)|69.171.227.37|:443... "
     ]
    },
    {
     "ename": "KeyboardInterrupt",
     "evalue": "",
     "output_type": "error",
     "traceback": [
      "\u001B[0;31m---------------------------------------------------------------------------\u001B[0m",
      "\u001B[0;31mKeyboardInterrupt\u001B[0m                         Traceback (most recent call last)",
      "File \u001B[0;32m~/anaconda3/envs/mmpretrain-main/lib/python3.8/site-packages/IPython/utils/_process_posix.py:153\u001B[0m, in \u001B[0;36mProcessHandler.system\u001B[0;34m(self, cmd)\u001B[0m\n\u001B[1;32m    150\u001B[0m \u001B[38;5;28;01mwhile\u001B[39;00m \u001B[38;5;28;01mTrue\u001B[39;00m:\n\u001B[1;32m    151\u001B[0m     \u001B[38;5;66;03m# res is the index of the pattern that caused the match, so we\u001B[39;00m\n\u001B[1;32m    152\u001B[0m     \u001B[38;5;66;03m# know whether we've finished (if we matched EOF) or not\u001B[39;00m\n\u001B[0;32m--> 153\u001B[0m     res_idx \u001B[38;5;241m=\u001B[39m \u001B[43mchild\u001B[49m\u001B[38;5;241;43m.\u001B[39;49m\u001B[43mexpect_list\u001B[49m\u001B[43m(\u001B[49m\u001B[43mpatterns\u001B[49m\u001B[43m,\u001B[49m\u001B[43m \u001B[49m\u001B[38;5;28;43mself\u001B[39;49m\u001B[38;5;241;43m.\u001B[39;49m\u001B[43mread_timeout\u001B[49m\u001B[43m)\u001B[49m\n\u001B[1;32m    154\u001B[0m     \u001B[38;5;28mprint\u001B[39m(child\u001B[38;5;241m.\u001B[39mbefore[out_size:]\u001B[38;5;241m.\u001B[39mdecode(enc, \u001B[38;5;124m'\u001B[39m\u001B[38;5;124mreplace\u001B[39m\u001B[38;5;124m'\u001B[39m), end\u001B[38;5;241m=\u001B[39m\u001B[38;5;124m'\u001B[39m\u001B[38;5;124m'\u001B[39m)\n",
      "File \u001B[0;32m~/anaconda3/envs/mmpretrain-main/lib/python3.8/site-packages/pexpect/spawnbase.py:372\u001B[0m, in \u001B[0;36mSpawnBase.expect_list\u001B[0;34m(self, pattern_list, timeout, searchwindowsize, async_, **kw)\u001B[0m\n\u001B[1;32m    371\u001B[0m \u001B[38;5;28;01melse\u001B[39;00m:\n\u001B[0;32m--> 372\u001B[0m     \u001B[38;5;28;01mreturn\u001B[39;00m \u001B[43mexp\u001B[49m\u001B[38;5;241;43m.\u001B[39;49m\u001B[43mexpect_loop\u001B[49m\u001B[43m(\u001B[49m\u001B[43mtimeout\u001B[49m\u001B[43m)\u001B[49m\n",
      "File \u001B[0;32m~/anaconda3/envs/mmpretrain-main/lib/python3.8/site-packages/pexpect/expect.py:169\u001B[0m, in \u001B[0;36mExpecter.expect_loop\u001B[0;34m(self, timeout)\u001B[0m\n\u001B[1;32m    168\u001B[0m \u001B[38;5;66;03m# Still have time left, so read more data\u001B[39;00m\n\u001B[0;32m--> 169\u001B[0m incoming \u001B[38;5;241m=\u001B[39m \u001B[43mspawn\u001B[49m\u001B[38;5;241;43m.\u001B[39;49m\u001B[43mread_nonblocking\u001B[49m\u001B[43m(\u001B[49m\u001B[43mspawn\u001B[49m\u001B[38;5;241;43m.\u001B[39;49m\u001B[43mmaxread\u001B[49m\u001B[43m,\u001B[49m\u001B[43m \u001B[49m\u001B[43mtimeout\u001B[49m\u001B[43m)\u001B[49m\n\u001B[1;32m    170\u001B[0m \u001B[38;5;28;01mif\u001B[39;00m \u001B[38;5;28mself\u001B[39m\u001B[38;5;241m.\u001B[39mspawn\u001B[38;5;241m.\u001B[39mdelayafterread \u001B[38;5;129;01mis\u001B[39;00m \u001B[38;5;129;01mnot\u001B[39;00m \u001B[38;5;28;01mNone\u001B[39;00m:\n",
      "File \u001B[0;32m~/anaconda3/envs/mmpretrain-main/lib/python3.8/site-packages/pexpect/pty_spawn.py:500\u001B[0m, in \u001B[0;36mspawn.read_nonblocking\u001B[0;34m(self, size, timeout)\u001B[0m\n\u001B[1;32m    497\u001B[0m \u001B[38;5;66;03m# Because of the select(0) check above, we know that no data\u001B[39;00m\n\u001B[1;32m    498\u001B[0m \u001B[38;5;66;03m# is available right now. But if a non-zero timeout is given\u001B[39;00m\n\u001B[1;32m    499\u001B[0m \u001B[38;5;66;03m# (possibly timeout=None), we call select() with a timeout.\u001B[39;00m\n\u001B[0;32m--> 500\u001B[0m \u001B[38;5;28;01mif\u001B[39;00m (timeout \u001B[38;5;241m!=\u001B[39m \u001B[38;5;241m0\u001B[39m) \u001B[38;5;129;01mand\u001B[39;00m \u001B[43mselect\u001B[49m\u001B[43m(\u001B[49m\u001B[43mtimeout\u001B[49m\u001B[43m)\u001B[49m:\n\u001B[1;32m    501\u001B[0m     \u001B[38;5;28;01mreturn\u001B[39;00m \u001B[38;5;28msuper\u001B[39m(spawn, \u001B[38;5;28mself\u001B[39m)\u001B[38;5;241m.\u001B[39mread_nonblocking(size)\n",
      "File \u001B[0;32m~/anaconda3/envs/mmpretrain-main/lib/python3.8/site-packages/pexpect/pty_spawn.py:450\u001B[0m, in \u001B[0;36mspawn.read_nonblocking.<locals>.select\u001B[0;34m(timeout)\u001B[0m\n\u001B[1;32m    449\u001B[0m \u001B[38;5;28;01mdef\u001B[39;00m \u001B[38;5;21mselect\u001B[39m(timeout):\n\u001B[0;32m--> 450\u001B[0m     \u001B[38;5;28;01mreturn\u001B[39;00m \u001B[43mselect_ignore_interrupts\u001B[49m\u001B[43m(\u001B[49m\u001B[43m[\u001B[49m\u001B[38;5;28;43mself\u001B[39;49m\u001B[38;5;241;43m.\u001B[39;49m\u001B[43mchild_fd\u001B[49m\u001B[43m]\u001B[49m\u001B[43m,\u001B[49m\u001B[43m \u001B[49m\u001B[43m[\u001B[49m\u001B[43m]\u001B[49m\u001B[43m,\u001B[49m\u001B[43m \u001B[49m\u001B[43m[\u001B[49m\u001B[43m]\u001B[49m\u001B[43m,\u001B[49m\u001B[43m \u001B[49m\u001B[43mtimeout\u001B[49m\u001B[43m)\u001B[49m[\u001B[38;5;241m0\u001B[39m]\n",
      "File \u001B[0;32m~/anaconda3/envs/mmpretrain-main/lib/python3.8/site-packages/pexpect/utils.py:143\u001B[0m, in \u001B[0;36mselect_ignore_interrupts\u001B[0;34m(iwtd, owtd, ewtd, timeout)\u001B[0m\n\u001B[1;32m    142\u001B[0m \u001B[38;5;28;01mtry\u001B[39;00m:\n\u001B[0;32m--> 143\u001B[0m     \u001B[38;5;28;01mreturn\u001B[39;00m \u001B[43mselect\u001B[49m\u001B[38;5;241;43m.\u001B[39;49m\u001B[43mselect\u001B[49m\u001B[43m(\u001B[49m\u001B[43miwtd\u001B[49m\u001B[43m,\u001B[49m\u001B[43m \u001B[49m\u001B[43mowtd\u001B[49m\u001B[43m,\u001B[49m\u001B[43m \u001B[49m\u001B[43mewtd\u001B[49m\u001B[43m,\u001B[49m\u001B[43m \u001B[49m\u001B[43mtimeout\u001B[49m\u001B[43m)\u001B[49m\n\u001B[1;32m    144\u001B[0m \u001B[38;5;28;01mexcept\u001B[39;00m \u001B[38;5;167;01mInterruptedError\u001B[39;00m:\n",
      "\u001B[0;31mKeyboardInterrupt\u001B[0m: ",
      "\nDuring handling of the above exception, another exception occurred:\n",
      "\u001B[0;31mKeyboardInterrupt\u001B[0m                         Traceback (most recent call last)",
      "Cell \u001B[0;32mIn [5], line 2\u001B[0m\n\u001B[1;32m      1\u001B[0m \u001B[38;5;66;03m# Download the CUB dataset\u001B[39;00m\n\u001B[0;32m----> 2\u001B[0m \u001B[43mget_ipython\u001B[49m\u001B[43m(\u001B[49m\u001B[43m)\u001B[49m\u001B[38;5;241;43m.\u001B[39;49m\u001B[43msystem\u001B[49m\u001B[43m(\u001B[49m\u001B[38;5;124;43m'\u001B[39;49m\u001B[38;5;124;43mmake download-cub\u001B[39;49m\u001B[38;5;124;43m'\u001B[39;49m\u001B[43m)\u001B[49m\n",
      "File \u001B[0;32m~/anaconda3/envs/mmpretrain-main/lib/python3.8/site-packages/ipykernel/zmqshell.py:633\u001B[0m, in \u001B[0;36mZMQInteractiveShell.system_piped\u001B[0;34m(self, cmd)\u001B[0m\n\u001B[1;32m    631\u001B[0m         \u001B[38;5;28mself\u001B[39m\u001B[38;5;241m.\u001B[39muser_ns[\u001B[38;5;124m\"\u001B[39m\u001B[38;5;124m_exit_code\u001B[39m\u001B[38;5;124m\"\u001B[39m] \u001B[38;5;241m=\u001B[39m system(cmd)\n\u001B[1;32m    632\u001B[0m \u001B[38;5;28;01melse\u001B[39;00m:\n\u001B[0;32m--> 633\u001B[0m     \u001B[38;5;28mself\u001B[39m\u001B[38;5;241m.\u001B[39muser_ns[\u001B[38;5;124m\"\u001B[39m\u001B[38;5;124m_exit_code\u001B[39m\u001B[38;5;124m\"\u001B[39m] \u001B[38;5;241m=\u001B[39m \u001B[43msystem\u001B[49m\u001B[43m(\u001B[49m\u001B[38;5;28;43mself\u001B[39;49m\u001B[38;5;241;43m.\u001B[39;49m\u001B[43mvar_expand\u001B[49m\u001B[43m(\u001B[49m\u001B[43mcmd\u001B[49m\u001B[43m,\u001B[49m\u001B[43m \u001B[49m\u001B[43mdepth\u001B[49m\u001B[38;5;241;43m=\u001B[39;49m\u001B[38;5;241;43m1\u001B[39;49m\u001B[43m)\u001B[49m\u001B[43m)\u001B[49m\n",
      "File \u001B[0;32m~/anaconda3/envs/mmpretrain-main/lib/python3.8/site-packages/IPython/utils/_process_posix.py:164\u001B[0m, in \u001B[0;36mProcessHandler.system\u001B[0;34m(self, cmd)\u001B[0m\n\u001B[1;32m    159\u001B[0m         out_size \u001B[38;5;241m=\u001B[39m \u001B[38;5;28mlen\u001B[39m(child\u001B[38;5;241m.\u001B[39mbefore)\n\u001B[1;32m    160\u001B[0m \u001B[38;5;28;01mexcept\u001B[39;00m \u001B[38;5;167;01mKeyboardInterrupt\u001B[39;00m:\n\u001B[1;32m    161\u001B[0m     \u001B[38;5;66;03m# We need to send ^C to the process.  The ascii code for '^C' is 3\u001B[39;00m\n\u001B[1;32m    162\u001B[0m     \u001B[38;5;66;03m# (the character is known as ETX for 'End of Text', see\u001B[39;00m\n\u001B[1;32m    163\u001B[0m     \u001B[38;5;66;03m# curses.ascii.ETX).\u001B[39;00m\n\u001B[0;32m--> 164\u001B[0m     \u001B[43mchild\u001B[49m\u001B[38;5;241;43m.\u001B[39;49m\u001B[43msendline\u001B[49m\u001B[43m(\u001B[49m\u001B[38;5;28;43mchr\u001B[39;49m\u001B[43m(\u001B[49m\u001B[38;5;241;43m3\u001B[39;49m\u001B[43m)\u001B[49m\u001B[43m)\u001B[49m\n\u001B[1;32m    165\u001B[0m     \u001B[38;5;66;03m# Read and print any more output the program might produce on its\u001B[39;00m\n\u001B[1;32m    166\u001B[0m     \u001B[38;5;66;03m# way out.\u001B[39;00m\n\u001B[1;32m    167\u001B[0m     \u001B[38;5;28;01mtry\u001B[39;00m:\n",
      "File \u001B[0;32m~/anaconda3/envs/mmpretrain-main/lib/python3.8/site-packages/pexpect/pty_spawn.py:578\u001B[0m, in \u001B[0;36mspawn.sendline\u001B[0;34m(self, s)\u001B[0m\n\u001B[1;32m    572\u001B[0m \u001B[38;5;124;03m'''Wraps send(), sending string ``s`` to child process, with\u001B[39;00m\n\u001B[1;32m    573\u001B[0m \u001B[38;5;124;03m``os.linesep`` automatically appended. Returns number of bytes\u001B[39;00m\n\u001B[1;32m    574\u001B[0m \u001B[38;5;124;03mwritten.  Only a limited number of bytes may be sent for each\u001B[39;00m\n\u001B[1;32m    575\u001B[0m \u001B[38;5;124;03mline in the default terminal mode, see docstring of :meth:`send`.\u001B[39;00m\n\u001B[1;32m    576\u001B[0m \u001B[38;5;124;03m'''\u001B[39;00m\n\u001B[1;32m    577\u001B[0m s \u001B[38;5;241m=\u001B[39m \u001B[38;5;28mself\u001B[39m\u001B[38;5;241m.\u001B[39m_coerce_send_string(s)\n\u001B[0;32m--> 578\u001B[0m \u001B[38;5;28;01mreturn\u001B[39;00m \u001B[38;5;28;43mself\u001B[39;49m\u001B[38;5;241;43m.\u001B[39;49m\u001B[43msend\u001B[49m\u001B[43m(\u001B[49m\u001B[43ms\u001B[49m\u001B[43m \u001B[49m\u001B[38;5;241;43m+\u001B[39;49m\u001B[43m \u001B[49m\u001B[38;5;28;43mself\u001B[39;49m\u001B[38;5;241;43m.\u001B[39;49m\u001B[43mlinesep\u001B[49m\u001B[43m)\u001B[49m\n",
      "File \u001B[0;32m~/anaconda3/envs/mmpretrain-main/lib/python3.8/site-packages/pexpect/pty_spawn.py:563\u001B[0m, in \u001B[0;36mspawn.send\u001B[0;34m(self, s)\u001B[0m\n\u001B[1;32m    528\u001B[0m \u001B[38;5;124;03m'''Sends string ``s`` to the child process, returning the number of\u001B[39;00m\n\u001B[1;32m    529\u001B[0m \u001B[38;5;124;03mbytes written. If a logfile is specified, a copy is written to that\u001B[39;00m\n\u001B[1;32m    530\u001B[0m \u001B[38;5;124;03mlog.\u001B[39;00m\n\u001B[0;32m   (...)\u001B[0m\n\u001B[1;32m    559\u001B[0m \u001B[38;5;124;03m    >>> bash.sendline('x' * 5000)\u001B[39;00m\n\u001B[1;32m    560\u001B[0m \u001B[38;5;124;03m'''\u001B[39;00m\n\u001B[1;32m    562\u001B[0m \u001B[38;5;28;01mif\u001B[39;00m \u001B[38;5;28mself\u001B[39m\u001B[38;5;241m.\u001B[39mdelaybeforesend \u001B[38;5;129;01mis\u001B[39;00m \u001B[38;5;129;01mnot\u001B[39;00m \u001B[38;5;28;01mNone\u001B[39;00m:\n\u001B[0;32m--> 563\u001B[0m     \u001B[43mtime\u001B[49m\u001B[38;5;241;43m.\u001B[39;49m\u001B[43msleep\u001B[49m\u001B[43m(\u001B[49m\u001B[38;5;28;43mself\u001B[39;49m\u001B[38;5;241;43m.\u001B[39;49m\u001B[43mdelaybeforesend\u001B[49m\u001B[43m)\u001B[49m\n\u001B[1;32m    565\u001B[0m s \u001B[38;5;241m=\u001B[39m \u001B[38;5;28mself\u001B[39m\u001B[38;5;241m.\u001B[39m_coerce_send_string(s)\n\u001B[1;32m    566\u001B[0m \u001B[38;5;28mself\u001B[39m\u001B[38;5;241m.\u001B[39m_log(s, \u001B[38;5;124m'\u001B[39m\u001B[38;5;124msend\u001B[39m\u001B[38;5;124m'\u001B[39m)\n",
      "\u001B[0;31mKeyboardInterrupt\u001B[0m: "
     ]
    }
   ],
   "source": [
    "# Download the CUB dataset\n",
    "!make download-cub"
   ]
  },
  {
   "cell_type": "code",
   "execution_count": null,
   "metadata": {
    "colab": {
     "base_uri": "https://localhost:8080/"
    },
    "id": "3kYxNc4tqno7",
    "outputId": "85a76b58-4267-44dc-85fd-e9fff2243563",
    "pycharm": {
     "name": "#%%\n"
    }
   },
   "outputs": [],
   "source": [
    "from easyfsl.datasets import CUB\n",
    "from torch.utils.data import DataLoader\n",
    "\n",
    "batch_size = 128\n",
    "n_workers = 12\n",
    "\n",
    "train_set = CUB(split=\"train\", training=True)\n",
    "train_loader = DataLoader(\n",
    "    train_set,\n",
    "    batch_size=batch_size,\n",
    "    num_workers=n_workers,\n",
    "    pin_memory=True,\n",
    "    shuffle=True,\n",
    ")"
   ]
  },
  {
   "cell_type": "markdown",
   "metadata": {
    "id": "G09f8Rkiqno8",
    "pycharm": {
     "name": "#%% md\n"
    }
   },
   "source": [
    "Now, we are going to create the model that we want to train. Here we choose the ResNet12 that is very often used in Few-Shot Learning research. Note that the default setting of these networks in EasyFSL is to not have a last fully connected layer (as it is usual for most Few-Shot Learning methods), but for classical training we need this layer! We also force it to output a vector which size is the number of different classes in the training set."
   ]
  },
  {
   "cell_type": "code",
   "execution_count": null,
   "metadata": {
    "id": "-zNE9ffbqnpA",
    "pycharm": {
     "name": "#%%\n"
    }
   },
   "outputs": [],
   "source": [
    "from easyfsl.modules import resnet12\n",
    "\n",
    "DEVICE = \"cuda\"\n",
    "\n",
    "model = resnet12(\n",
    "    use_fc=True,\n",
    "    num_classes=len(set(train_set.get_labels())),\n",
    ").to(DEVICE)"
   ]
  },
  {
   "cell_type": "markdown",
   "metadata": {
    "id": "5uP_qztRqnpB",
    "pycharm": {
     "name": "#%% md\n"
    }
   },
   "source": [
    "Now, we still need validation ! Since we're training a model to perform few-shot classification, we will validate on few-shot tasks, so now we'll use the `TaskSampler`. We arbitrarily set the shape of the validation tasks. Ideally, you'd like to perform validation on various shapes of tasks, but we didn't implement this yet (feel free to contribute!).\n",
    "\n",
    "We also need to define the few-shot classification method that we will use during validation of the neural network we're training.\n",
    "Here we choose Prototypical Networks, because it's simple and efficient, but this is still an arbitrary choice."
   ]
  },
  {
   "cell_type": "code",
   "execution_count": null,
   "metadata": {
    "colab": {
     "base_uri": "https://localhost:8080/"
    },
    "id": "DrUD75fEqnpC",
    "outputId": "fb3cd669-7cbb-40c8-9059-3ba359c96ac9",
    "pycharm": {
     "name": "#%%\n"
    }
   },
   "outputs": [],
   "source": [
    "from easyfsl.methods import PrototypicalNetworks\n",
    "from easyfsl.samplers import TaskSampler\n",
    "\n",
    "n_way = 5\n",
    "n_shot = 5\n",
    "n_query = 10\n",
    "n_validation_tasks = 500\n",
    "\n",
    "val_set = CUB(split=\"val\", training=False)\n",
    "val_sampler = TaskSampler(\n",
    "    val_set, n_way=n_way, n_shot=n_shot, n_query=n_query, n_tasks=n_validation_tasks\n",
    ")\n",
    "val_loader = DataLoader(\n",
    "    val_set,\n",
    "    batch_sampler=val_sampler,\n",
    "    num_workers=n_workers,\n",
    "    pin_memory=True,\n",
    "    collate_fn=val_sampler.episodic_collate_fn,\n",
    ")\n",
    "\n",
    "few_shot_classifier = PrototypicalNetworks(model).to(DEVICE)"
   ]
  },
  {
   "cell_type": "markdown",
   "metadata": {
    "id": "8DSkTh4zqnpD",
    "pycharm": {
     "name": "#%% md\n"
    }
   },
   "source": [
    "## Training\n",
    "\n",
    "Now let's define our training helpers ! I chose to use Stochastic Gradient Descent on 200 epochs with a scheduler that divides the learning rate by 10 after 120 and 160 epochs. The strategy is derived from [this repo](https://github.com/fiveai/on-episodes-fsl).\n",
    "\n",
    "We're also gonna use a TensorBoard because it's always good to see what your training curves look like.\n",
    "\n",
    "An other thing: we're doing 200 epochs like in [the episodic training notebook](notebooks/episodic_training.ipynb), but keep in mind that an epoch in classical training means one pass through the 6000 images of the dataset, while in episodic training it's an arbitrary number of episodes. In the episodic training notebook an epoch is 500 episodes of 5-way, 5-shot, 10-query tasks, so 37500 images. TL;DR you may want to monitor your training and increase the number of epochs if necessary."
   ]
  },
  {
   "cell_type": "code",
   "execution_count": null,
   "metadata": {
    "id": "59DHe5LBqnpE",
    "pycharm": {
     "name": "#%%\n"
    }
   },
   "outputs": [],
   "source": [
    "from torch.optim import SGD, Optimizer\n",
    "from torch.optim.lr_scheduler import MultiStepLR\n",
    "from torch.utils.tensorboard import SummaryWriter\n",
    "\n",
    "\n",
    "LOSS_FUNCTION = nn.CrossEntropyLoss()\n",
    "\n",
    "n_epochs = 200\n",
    "scheduler_milestones = [150, 180]\n",
    "scheduler_gamma = 0.1\n",
    "learning_rate = 1e-01\n",
    "tb_logs_dir = Path(\".\")\n",
    "\n",
    "train_optimizer = SGD(\n",
    "    model.parameters(), lr=learning_rate, momentum=0.9, weight_decay=5e-4\n",
    ")\n",
    "train_scheduler = MultiStepLR(\n",
    "    train_optimizer,\n",
    "    milestones=scheduler_milestones,\n",
    "    gamma=scheduler_gamma,\n",
    ")\n",
    "\n",
    "tb_writer = SummaryWriter(log_dir=str(tb_logs_dir))"
   ]
  },
  {
   "cell_type": "markdown",
   "metadata": {
    "id": "3RgyjdOUqnpF",
    "pycharm": {
     "name": "#%% md\n"
    }
   },
   "source": [
    "And now let's get to it! Here we define the function that performs a training epoch.\n",
    "\n",
    "We use tqdm to monitor the training in real time in our logs."
   ]
  },
  {
   "cell_type": "code",
   "execution_count": null,
   "metadata": {
    "id": "NxMeTTCwqnpF",
    "pycharm": {
     "name": "#%%\n"
    }
   },
   "outputs": [],
   "source": [
    "def training_epoch(model_: nn.Module, data_loader: DataLoader, optimizer: Optimizer):\n",
    "    all_loss = []\n",
    "    model_.train()\n",
    "    with tqdm(data_loader, total=len(data_loader), desc=\"Training\") as tqdm_train:\n",
    "        for images, labels in tqdm_train:\n",
    "            optimizer.zero_grad()\n",
    "\n",
    "            loss = LOSS_FUNCTION(model_(images.to(DEVICE)), labels.to(DEVICE))\n",
    "            loss.backward()\n",
    "            optimizer.step()\n",
    "\n",
    "            all_loss.append(loss.item())\n",
    "\n",
    "            tqdm_train.set_postfix(loss=mean(all_loss))\n",
    "\n",
    "    return mean(all_loss)"
   ]
  },
  {
   "cell_type": "markdown",
   "metadata": {
    "id": "y1P6GlRAqnpG",
    "pycharm": {
     "name": "#%% md\n"
    }
   },
   "source": [
    "And we have everything we need! This is now the time to **start training**.\n",
    "\n",
    "A few notes:\n",
    "\n",
    "- We only validate every 10 epochs (you may set an even less frequent validation) because a training epoch is much faster than 500 few-shot tasks, and we don't want validation to be the bottleneck of our training process.\n",
    "\n",
    "- I also added something to log the state of the model that gave the best performance on the validation set."
   ]
  },
  {
   "cell_type": "code",
   "execution_count": null,
   "metadata": {
    "colab": {
     "base_uri": "https://localhost:8080/"
    },
    "id": "QEm3sKqPqnpG",
    "outputId": "680e0012-3e7b-470d-f800-cbd75e41f773",
    "pycharm": {
     "name": "#%%\n"
    }
   },
   "outputs": [],
   "source": [
    "from easyfsl.utils import evaluate\n",
    "\n",
    "\n",
    "best_state = model.state_dict()\n",
    "best_validation_accuracy = 0.0\n",
    "validation_frequency = 10\n",
    "for epoch in range(n_epochs):\n",
    "    print(f\"Epoch {epoch}\")\n",
    "    average_loss = training_epoch(model, train_loader, train_optimizer)\n",
    "\n",
    "    if epoch % validation_frequency == validation_frequency - 1:\n",
    "\n",
    "        # We use this very convenient method from EasyFSL's ResNet to specify\n",
    "        # that the model shouldn't use its last fully connected layer during validation.\n",
    "        model.set_use_fc(False)\n",
    "        validation_accuracy = evaluate(\n",
    "            few_shot_classifier, val_loader, device=DEVICE, tqdm_prefix=\"Validation\"\n",
    "        )\n",
    "        model.set_use_fc(True)\n",
    "\n",
    "        if validation_accuracy > best_validation_accuracy:\n",
    "            best_validation_accuracy = validation_accuracy\n",
    "            best_state = model.state_dict()\n",
    "            print(\"Ding ding ding! We found a new best model!\")\n",
    "\n",
    "        tb_writer.add_scalar(\"Val/acc\", validation_accuracy, epoch)\n",
    "\n",
    "    tb_writer.add_scalar(\"Train/loss\", average_loss, epoch)\n",
    "\n",
    "    # Warn the scheduler that we did an epoch\n",
    "    # so it knows when to decrease the learning rate\n",
    "    train_scheduler.step()"
   ]
  },
  {
   "cell_type": "markdown",
   "metadata": {
    "id": "cHWLcJ99qnpH",
    "pycharm": {
     "name": "#%% md\n"
    }
   },
   "source": [
    "Yay we successfully performed Classical Training! Now if you want to you can retrieve the best model's state."
   ]
  },
  {
   "cell_type": "code",
   "execution_count": null,
   "metadata": {
    "colab": {
     "base_uri": "https://localhost:8080/"
    },
    "id": "EG9bBTz4qnpH",
    "outputId": "f4aed221-a7fc-4563-d51c-d6606fd704ac",
    "pycharm": {
     "name": "#%%\n"
    }
   },
   "outputs": [],
   "source": [
    "model.load_state_dict(best_state)"
   ]
  },
  {
   "cell_type": "markdown",
   "metadata": {
    "id": "l0iEJFIiqnpI",
    "pycharm": {
     "name": "#%% md\n"
    }
   },
   "source": [
    "## Evaluation\n",
    "\n",
    "Now that our model is trained, we want to test it.\n",
    "\n",
    "First step: we fetch the test data. Note that we'll evaluate on the same shape of tasks as in validation. This is malicious practice, because it means that we used *a priori* information about the evaluation tasks during training. This is still less malicious than episodic training, though."
   ]
  },
  {
   "cell_type": "code",
   "execution_count": null,
   "metadata": {
    "colab": {
     "base_uri": "https://localhost:8080/"
    },
    "id": "eveON7-wqnpI",
    "outputId": "14f75db7-8395-4019-ef4a-73d8ce72bca9",
    "pycharm": {
     "name": "#%%\n"
    }
   },
   "outputs": [],
   "source": [
    "n_test_tasks = 1000\n",
    "\n",
    "test_set = CUB(split=\"test\", training=False)\n",
    "test_sampler = TaskSampler(\n",
    "    test_set, n_way=n_way, n_shot=n_shot, n_query=n_query, n_tasks=n_test_tasks\n",
    ")\n",
    "test_loader = DataLoader(\n",
    "    test_set,\n",
    "    batch_sampler=test_sampler,\n",
    "    num_workers=n_workers,\n",
    "    pin_memory=True,\n",
    "    collate_fn=test_sampler.episodic_collate_fn,\n",
    ")"
   ]
  },
  {
   "cell_type": "markdown",
   "metadata": {
    "id": "Pr5aDnD-qnpJ",
    "pycharm": {
     "name": "#%% md\n"
    }
   },
   "source": [
    "Second step: we instantiate a few-shot classifier using our trained ResNet as backbone, and run it on the test data. We keep using Prototypical Networks for consistence, but at this point you could basically use any few-shot classifier that takes no additional trainable parameters.\n",
    "\n",
    "Like we did during validation, we need to tell our ResNet to not use its last fully connected layer."
   ]
  },
  {
   "cell_type": "code",
   "execution_count": null,
   "metadata": {
    "colab": {
     "base_uri": "https://localhost:8080/"
    },
    "id": "lK6WOtpwqnpJ",
    "outputId": "89f92fcd-c8b5-4bda-d1b7-294ccfaf19c0",
    "pycharm": {
     "name": "#%%\n"
    }
   },
   "outputs": [],
   "source": [
    "model.set_use_fc(False)\n",
    "\n",
    "accuracy = evaluate(few_shot_classifier, test_loader, device=DEVICE)\n",
    "print(f\"Average accuracy : {(100 * accuracy):.2f} %\")"
   ]
  },
  {
   "cell_type": "raw",
   "metadata": {
    "id": "qe5fBbm4qnpJ",
    "pycharm": {
     "name": "#%% raw\n"
    }
   },
   "source": [
    "Congrats! You trained a network with cross entropy and used it with a few-shot learning method at test time."
   ]
  }
 ],
 "metadata": {
  "accelerator": "GPU",
  "colab": {
   "collapsed_sections": [],
   "name": "classical_training.ipynb",
   "provenance": []
  },
  "gpuClass": "standard",
  "kernelspec": {
   "display_name": "Python 3 (ipykernel)",
   "language": "python",
   "name": "python3"
  },
  "language_info": {
   "codemirror_mode": {
    "name": "ipython",
    "version": 3
   },
   "file_extension": ".py",
   "mimetype": "text/x-python",
   "name": "python",
   "nbconvert_exporter": "python",
   "pygments_lexer": "ipython3",
   "version": "3.8.10"
  }
 },
 "nbformat": 4,
 "nbformat_minor": 4
}